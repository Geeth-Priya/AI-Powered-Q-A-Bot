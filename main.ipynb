{
 "cells": [
  {
   "cell_type": "code",
   "execution_count": 1,
   "metadata": {},
   "outputs": [
    {
     "name": "stderr",
     "output_type": "stream",
     "text": [
      "USER_AGENT environment variable not set, consider setting it to identify your requests.\n"
     ]
    }
   ],
   "source": [
    "from langchain_community.document_loaders import WebBaseLoader"
   ]
  },
  {
   "cell_type": "code",
   "execution_count": 2,
   "metadata": {},
   "outputs": [],
   "source": [
    "import bs4"
   ]
  },
  {
   "cell_type": "code",
   "execution_count": null,
   "metadata": {},
   "outputs": [
    {
     "name": "stdout",
     "output_type": "stream",
     "text": [
      "Brainlox: Learn technical courses.Courses TechnicalAcademicLanguageMusicLifestyleBook a Free Demo NowSign InFAQContact UsHomeCoursesCoursesWe found great courses available for you$30per sessionLEARN SCRATCH PROGRAMING\n",
      "Scratch Course is the foundation of coding and is a building block of a coding journey. If you want 16 LessonsView Details$30per sessionLEARN CLOUD COMPUTING BASICS-AWS\n",
      "In this course we are going to cover the basics and the most important services on AWS,\n",
      "At the end  20 LessonsVie\n"
     ]
    }
   ],
   "source": [
    "url=\"https://brainlox.com/courses/category/technical\"\n",
    "web_loader=WebBaseLoader(url)\n",
    "documents=web_loader.load()"
   ]
  },
  {
   "cell_type": "code",
   "execution_count": 3,
   "metadata": {},
   "outputs": [],
   "source": [
    "bs4_strainer=bs4.SoupStrainer(class_=(\"courses-content\"))\n",
    "loader=WebBaseLoader(\n",
    "    web_paths=(\"https://brainlox.com/courses/category/technical\",),\n",
    "    bs_kwargs={\"parse_only\":bs4_strainer},\n",
    ")\n",
    "docs=loader.load()"
   ]
  },
  {
   "cell_type": "code",
   "execution_count": 11,
   "metadata": {},
   "outputs": [
    {
     "data": {
      "text/plain": [
       "langchain_core.documents.base.Document"
      ]
     },
     "execution_count": 11,
     "metadata": {},
     "output_type": "execute_result"
    }
   ],
   "source": [
    "type(docs[0])"
   ]
  },
  {
   "cell_type": "code",
   "execution_count": 26,
   "metadata": {},
   "outputs": [],
   "source": [
    "from langchain_text_splitters import RecursiveCharacterTextSplitter\n",
    "rts=RecursiveCharacterTextSplitter(chunk_size=1000,chunk_overlap=100, add_start_index=True)"
   ]
  },
  {
   "cell_type": "code",
   "execution_count": 27,
   "metadata": {},
   "outputs": [
    {
     "data": {
      "text/plain": [
       "[Document(metadata={'source': 'https://brainlox.com/courses/category/technical', 'start_index': 0}, page_content='LEARN SCRATCH PROGRAMING\\nScratch Course is the foundation of coding and is a building block of a coding journey. If you want 16 LessonsView DetailsLEARN CLOUD COMPUTING BASICS-AWS\\nIn this course we are going to cover the basics and the most important services on AWS,\\nAt the end  20 LessonsView DetailsLEARN MOBILE DEVELOPMENT\\nMobile application development is the process of creating software applications that run on a mobil 24 LessonsView DetailsLEARN CORE JAVA PROGRAMMING ONLINE\\nJava is a very popular high-level, class-based, object-oriented programming language that is design 41 LessonsView DetailsLEARN ROBOTICS\\nYou can open all kinds of doors for advancement in so many careers with a basic understanding of el 25 LessonsView DetailsLEARN JAVASCRIPT\\nJavaScript is the most popular programming language in the world. It powers the entire modern web.  18 LessonsView DetailsLEARN NODE JS'),\n",
       " Document(metadata={'source': 'https://brainlox.com/courses/category/technical', 'start_index': 896}, page_content='Node.js developers are in high demand and the language is used for everything from traditional web  18 LessonsView DetailsLEARN CLOUD COMPUTING ADVANCE-AWSDESCRIPTION\\nThis introduction to cloud computing on Amazon AWS course takes you from the AWS Ad 18 LessonsView DetailsPYTHON PROGRAMMING-BEGINNER\\nPython is a language with simple syntax, and a powerful set of libraries. It has a rich programming 16 LessonsView DetailsRoblox Programming For BeginnersExplore the dynamic universe of game development with our \"Roblox Game Development Fundamentals\" cou 15 LessonsView DetailsPYTHON PROGRAMMING-INTERMEDIATE\\nTake your python skills to the next level and start building real applications.\\nPython is a pro 16 LessonsView DetailsPYTHON PROGRAMMING-ADVANCEIf you already know Python basics, then this training is the next step in your Python learning path  30 LessonsView DetailsPYTHON PROGRAMMING GROUP CLASSES - BEGINNER'),\n",
       " Document(metadata={'source': 'https://brainlox.com/courses/category/technical', 'start_index': 1817}, page_content='Python is a language with simple syntax, and a powerful set of libraries. It has a rich programming 16 LessonsView DetailsAdvanced Roblox Scripting Workshop\"Are you ready to unlock the full potential of your Roblox game development skills? Join our Interme 14 LessonsView DetailsRobotics Adventure Awaits:Join Our Summer Camp for Young Tech Wizards!This course is designed to introduce beginners to the world of robotics. Learners will be taught the 16 LessonsView DetailsJava Project-Based CourseJava Project-Based Course for Intermediate Level Students ;Overview: This course is designed for int 7 LessonsView DetailsArtificial Intelligence Adventures: Building AI Chatbot Like Chatgpt (For Kids)Unlock the power of AI chatbots in our 10-day course! Gain comprehensive knowledge of chatbot develo 10 LessonsView DetailsPython Playground: Create a Hangman GamePython Playground : Create a Hangman Game is an exciting and engaging course designed specifically f 8 LessonsView DetailsScratch'),\n",
       " Document(metadata={'source': 'https://brainlox.com/courses/category/technical', 'start_index': 2715}, page_content='Game is an exciting and engaging course designed specifically f 8 LessonsView DetailsScratch Playground: Create a Maze Game!Scratch Playground : Create a Maze Game! is a beginner-level course designed to introduce kids to th 8 LessonsView DetailsArtificial Intelligence Essentials: Summer BootcampJoin us for this engaging 5-day summer bootcamp where we will explore the fascinating world of Artif 5 LessonsView DetailsTime Mastery Camp: AI for Jobs, Business, CareersThe \"AI for Productivity and Time Management\" course: 🚀💡'),\n",
       " Document(metadata={'source': 'https://brainlox.com/courses/category/technical', 'start_index': 3240}, page_content='Day 1: Introduction to AI and its Applica 11 LessonsView DetailsBuild Your Own Theme Park in RobloxRoblox Studio fundamentals are taught through fun and interactive projects. Lectures, projects, hand 8 LessonsView DetailsJava Coding Summer Camp for Young MindsJava Journey: Coding Camp for Curious Minds\" is a fun-filled, 5-day adventure into the world of prog 5 LessonsView DetailsAI Camp for Entrepreneurs: Build Business SuccessWelcome to the world of AI in entrepreneurship!  In this course, we will embark on a thrilling journ 7 LessonsView DetailsChatGPT Boot Camp: Basics & Best UsesJoin us for an exciting journey into the world of AI chatbots with this 5-day bootcamp. You\\'ll learn 5 LessonsView DetailsCreate-A-Bot: A Project-Based Robotics ExplorationIgnite your child\\'s tech curiosity with our \"RoboRacers\" camp! Over five days, campers will delve in 5 LessonsView DetailsJava & Proramming\" Project outline for JAVA PROJECT BASED BOOTCAMP\\n1: Introduction to Java and Programming Basics.'),\n",
       " Document(metadata={'source': 'https://brainlox.com/courses/category/technical', 'start_index': 4191}, page_content='1: Introduction to Java and Programming Basics.\\n2. 8 LessonsView DetailsChatbot Creators: Design a ChatGPT-like AIJoin us on a 7-day bootcamp to step into the world of AI and create your own chatbot like ChatGPT. Y 7 LessonsView DetailsWeb Development from scratchUnlock the boundless potential of web development with our \"Web Development Essentials\" course. Whet 6 LessonsView DetailsSummer Camp: Introduction to PythonStep into our 7-day \"Python Project Playground\" camp where coding meets creativity! Kids will explor 7 LessonsView DetailsAI Secrets Revealed: Master Productivity Hacks That Will Blow Your Mind! (For Kids)Boost your productivity with AI!'),\n",
       " Document(metadata={'source': 'https://brainlox.com/courses/category/technical', 'start_index': 4852}, page_content='Join our \"AI for Productivity and Time Management\" course and lea 11 LessonsView DetailsSummer Bootcamp with JavaScript: Real Projects, Real ResultsIn this 5-day camp, you\\'ll dive headfirst into JavaScript, one of the world\\'s most popular programmi 5 LessonsView DetailsAI Disruption: Top Entrepreneurs Harnessing AI for Unprecedented Success! (For Kids)Understand the role and potential of AI in entrepreneurship, learn the fundamentals, explore data ac 7 LessonsView DetailsThe AI Writer\\'s Masterclass: Innovation and Inspiration in Creative Writing! (For Kids)Enhance your creative writing skills with AI! Join our 10-day course and explore AI\\'s role in writin 10 LessonsView DetailsWeb Development Pro: Intermediate LevelReady to unlock the full potential of web development? Join our \"Intermediate Web Development Master 8 LessonsView DetailsScratch Playground: Create a Scroller Game!Scratch Playground : Create a Scroller Game is an intermediate level course designed to teach kids t 8'),\n",
       " Document(metadata={'source': 'https://brainlox.com/courses/category/technical', 'start_index': 5750}, page_content='Playground : Create a Scroller Game is an intermediate level course designed to teach kids t 8 LessonsView DetailsAI Pro: Creative Writing Camp for Adults🚀 Welcome to Creative Writing with AI for ADULTS!'),\n",
       " Document(metadata={'source': 'https://brainlox.com/courses/category/technical', 'start_index': 5955}, page_content='Unleash your creativity with cutting-edge AI tec 10 LessonsView DetailsPython Playground: Create Your Own Snake GameThrough this course, participants will learn the fundamentals of Python programming language, as wel 8 LessonsView DetailsBuild your own Calculator using Python Bootcamp for kidsThis bootcamp is a fun and engaging program designed to introduce children to the basics of programm 8 LessonsView DetailsPython Playground: Create a Tic Tac Toe GameAn interactive and hands-on tutorial designed to help learners build their programming skills while  8 LessonsView DetailsScratch Playground: Create a Flappy Bird Game!Scratch Playground 103: Create a Flappy Bird is a beginner to intermediate level course designed to  8 LessonsView DetailsHTML, CSS, JavaScript: 7-Day Summer BootcampJump into the vibrant world of coding with our engaging 7-day summer camp! Starting from scratch, yo 7 LessonsView DetailsHands-on Java: Project-based Learning for Coding NovicesEmbark on a coding'),\n",
       " Document(metadata={'source': 'https://brainlox.com/courses/category/technical', 'start_index': 6847}, page_content='yo 7 LessonsView DetailsHands-on Java: Project-based Learning for Coding NovicesEmbark on a coding adventure with our \"Code, Create, Conquer\" Java camp! In just 7 days, kids will l 7 LessonsView DetailsPython Playground: Create a Memory GamePython Playground: Create a Memory Game is a beginner-level course designed for kids who are interes 8 LessonsView DetailsSummer Bootcamp: 5-Day Scratch Programming for BeginnersEmbark on an exciting coding adventure with our 5-day Scratch Programming camp! Designed for beginne 5 LessonsView Details5-Day Summer Camp: Python for BeginnersDive into coding with our 5-day \"Python Playground\" camp! Kids will explore Python, a popular langua 5 LessonsView DetailsBuild a Text analyzer using Python Bootcamp for kidsThe Build a Text Analyzer using Python Bootcamp for Kids is an educational program designed to intro 8 LessonsView DetailsScratch Playground : Create a Platformer Game!Scratch Playground : Create a Platformer Game is an intermediate level course'),\n",
       " Document(metadata={'source': 'https://brainlox.com/courses/category/technical', 'start_index': 7751}, page_content='a Platformer Game!Scratch Playground : Create a Platformer Game is an intermediate level course designed to teach kids 8 LessonsView DetailsIntroduction to Artificial Intelligence!Welcome to the \"Introduction to Artificial Intelligence and Python\" course! This course is designed  5 LessonsView DetailsPython Playground: Create a Rock, Paper, Scissors GameThis is an engaging course designed for kids who are interested in learning programming with Python. 8 LessonsView DetailsAI in Stock Market Success: Career Growth Camp !!Are you ready to unlock the secrets of predicting stock prices using AI? 📈🤖 Join our immersive cou 10 LessonsView DetailsFrom Beginner to AI Pro: Kickstart Your Journey With Artificial Intelligence! (For Kids)Dive into the world of AI! 🤖 Join our \"Introduction to Artificial Intelligence\" course and unlock t 20 LessonsView DetailsGame development using python'),\n",
       " Document(metadata={'source': 'https://brainlox.com/courses/category/technical', 'start_index': 8639}, page_content='Welcome to the \"Introduction to Python Game Development\" course! In this course, you\\'ll embark on a 4 LessonsView DetailsBuild a Image manipulator using Python Bootcamp for kidsThe Build a Image Manipulator using Python Bootcamp for Kids is a program designed to introduce chil 8 LessonsView DetailsBuild a Weather app using Python Bootcamp for kidsBuild a Weather App using Python Bootcamp for Kids is an educational program designed to introduce y 8 LessonsView DetailsBuild Your Own Roblox Battle ArenaRoblox Studio fundamentals are taught through fun and interactive projects. Lectures, projects, hand 8 LessonsView DetailsThe Millionaire\\'s AI Playbook: Learn How to Predict Stock Prices! (For Kids)Learn to predict stock prices using the incredible potential of AI and machine learning in our compr 10 LessonsView DetailsMachine Learning: 7-Day Project-Based Summer CampJoin our \"Machine Learning Mania\" camp for a 7-day tech adventure! Kids will tackle machine learning 7 LessonsView DetailsAI'),\n",
       " Document(metadata={'source': 'https://brainlox.com/courses/category/technical', 'start_index': 9541}, page_content='Mania\" camp for a 7-day tech adventure! Kids will tackle machine learning 7 LessonsView DetailsAI Pro Camp: Career Growth CatalystOur Intro to AI for Adults course is designed to equip professionals with essential knowledge and pr 20 LessonsView DetailsMinecraft Java Programming for BeginnersSession-1: Introduction to Java programming and Minecraft. Lesson 2: Getting Started in Creative Mod 7 LessonsView DetailsBuild a Chatbot using Python Bootcamp for kidsThis bootcamp is a fun and interactive program designed to teach children how to create their own ch 8 LessonsView DetailsBuild a Password generator using Python Bootcamp for kidsWelcome to the Build a Password Generator using Python Bootcamp for Kids! In this bootcamp, you will 8 LessonsView DetailsScratch Playground: Create a Space Game!Scratch Playground : Create a Space Game is an intermediate-level course designed to introduce kids  8 LessonsView DetailsCreate Your Own Roblox Obstacle CourseRoblox enthusiasts who want to learn'),\n",
       " Document(metadata={'source': 'https://brainlox.com/courses/category/technical', 'start_index': 10444}, page_content='8 LessonsView DetailsCreate Your Own Roblox Obstacle CourseRoblox enthusiasts who want to learn how to design and build their own custom obstacle courses withi 8 LessonsView DetailsJava Minecraft Creative or Survival Mode1. Title: Minecraft Java Programming for Beginners Overview: This class is designed for complete beg 7 LessonsView DetailsAI Camp for Jobs & Business:Build Your own ChatGPT🌟Welcome to the Chatbot Mastery Course! 🎓'),\n",
       " Document(metadata={'source': 'https://brainlox.com/courses/category/technical', 'start_index': 10880}, page_content='Get ready to unlock the secrets of building intelligent 10 LessonsView DetailsHTML, CSS, JavaScript Essentials: 5-Day Coding BootcampUnleash your creativity in our fun and interactive 5-day summer camp. No prior experience needed. Yo 5 LessonsView Details')]"
      ]
     },
     "execution_count": 27,
     "metadata": {},
     "output_type": "execute_result"
    }
   ],
   "source": [
    "all_splits=rts.split_documents(docs)\n",
    "all_splits"
   ]
  },
  {
   "cell_type": "code",
   "execution_count": 32,
   "metadata": {},
   "outputs": [],
   "source": [
    "from langchain_ollama import OllamaEmbeddings\n",
    "local_embediings=OllamaEmbeddings(model=\"all-minilm\")"
   ]
  },
  {
   "cell_type": "code",
   "execution_count": 34,
   "metadata": {},
   "outputs": [],
   "source": [
    "from langchain_chroma import Chroma\n",
    "vectorscore=Chroma.from_documents(documents=all_splits, embedding=local_embediings)"
   ]
  },
  {
   "cell_type": "code",
   "execution_count": 88,
   "metadata": {},
   "outputs": [
    {
     "data": {
      "text/plain": [
       "[Document(id='7dcfc300-b84b-4639-8e2a-143e622f0ae6', metadata={'source': 'https://brainlox.com/courses/category/technical', 'start_index': 2715}, page_content='Game is an exciting and engaging course designed specifically f 8 LessonsView DetailsScratch Playground: Create a Maze Game!Scratch Playground : Create a Maze Game! is a beginner-level course designed to introduce kids to th 8 LessonsView DetailsArtificial Intelligence Essentials: Summer BootcampJoin us for this engaging 5-day summer bootcamp where we will explore the fascinating world of Artif 5 LessonsView DetailsTime Mastery Camp: AI for Jobs, Business, CareersThe \"AI for Productivity and Time Management\" course: 🚀💡'),\n",
       " Document(id='5989858b-8fbc-4987-acb5-7de83a6ac687', metadata={'source': 'https://brainlox.com/courses/category/technical', 'start_index': 10444}, page_content='8 LessonsView DetailsCreate Your Own Roblox Obstacle CourseRoblox enthusiasts who want to learn how to design and build their own custom obstacle courses withi 8 LessonsView DetailsJava Minecraft Creative or Survival Mode1. Title: Minecraft Java Programming for Beginners Overview: This class is designed for complete beg 7 LessonsView DetailsAI Camp for Jobs & Business:Build Your own ChatGPT🌟Welcome to the Chatbot Mastery Course! 🎓'),\n",
       " Document(id='754fb731-b91c-4ab8-a7bb-5b9a6bc02e83', metadata={'source': 'https://brainlox.com/courses/category/technical', 'start_index': 0}, page_content='LEARN SCRATCH PROGRAMING\\nScratch Course is the foundation of coding and is a building block of a coding journey. If you want 16 LessonsView DetailsLEARN CLOUD COMPUTING BASICS-AWS\\nIn this course we are going to cover the basics and the most important services on AWS,\\nAt the end  20 LessonsView DetailsLEARN MOBILE DEVELOPMENT\\nMobile application development is the process of creating software applications that run on a mobil 24 LessonsView DetailsLEARN CORE JAVA PROGRAMMING ONLINE\\nJava is a very popular high-level, class-based, object-oriented programming language that is design 41 LessonsView DetailsLEARN ROBOTICS\\nYou can open all kinds of doors for advancement in so many careers with a basic understanding of el 25 LessonsView DetailsLEARN JAVASCRIPT\\nJavaScript is the most popular programming language in the world. It powers the entire modern web.  18 LessonsView DetailsLEARN NODE JS')]"
      ]
     },
     "execution_count": 88,
     "metadata": {},
     "output_type": "execute_result"
    }
   ],
   "source": [
    "question=\"course avaiable?\"\n",
    "retriever=vectorscore.as_retriever(search_type=\"similarity\", search_kwargs={\"k\":3})\n",
    "retrieved_docs=retriever.invoke(question)\n",
    "\n",
    "retrieved_docs"
   ]
  },
  {
   "cell_type": "code",
   "execution_count": 89,
   "metadata": {},
   "outputs": [
    {
     "data": {
      "text/plain": [
       "['Game is an exciting and engaging course designed specifically f Scratch Playground: Create a Maze Game!Scratch Playground : Create a Maze Game! is a beginner-level course designed to introduce kids to th Artificial Intelligence Essentials: Summer BootcampJoin us for this engaging 5-day summer bootcamp where we will explore the fascinating world of Artif Time Mastery Camp: AI for Jobs, Business, CareersThe \"AI for Productivity and Time Management\" course: 🚀💡',\n",
       " 'Create Your Own Roblox Obstacle CourseRoblox enthusiasts who want to learn how to design and build their own custom obstacle courses withi Java Minecraft Creative or Survival Mode1. Title: Minecraft Java Programming for Beginners Overview: This class is designed for complete beg AI Camp for Jobs & Business:Build Your own ChatGPT🌟Welcome to the Chatbot Mastery Course! 🎓',\n",
       " 'LEARN SCRATCH PROGRAMING\\nScratch Course is the foundation of coding and is a building block of a coding journey. If you want LEARN CLOUD COMPUTING BASICS-AWS\\nIn this course we are going to cover the basics and the most important services on AWS,\\nAt the end  LEARN MOBILE DEVELOPMENT\\nMobile application development is the process of creating software applications that run on a mobil LEARN CORE JAVA PROGRAMMING ONLINE\\nJava is a very popular high-level, class-based, object-oriented programming language that is design LEARN ROBOTICS\\nYou can open all kinds of doors for advancement in so many careers with a basic understanding of el LEARN JAVASCRIPT\\nJavaScript is the most popular programming language in the world. It powers the entire modern web.  LEARN NODE JS']"
      ]
     },
     "execution_count": 89,
     "metadata": {},
     "output_type": "execute_result"
    }
   ],
   "source": [
    "import re\n",
    "pattern = r\"\\d+ LessonsView Details\"\n",
    "cleaned_docs = [re.sub(pattern, \"\", doc.page_content) for doc in retrieved_docs]\n",
    "cleaned_docs"
   ]
  },
  {
   "cell_type": "code",
   "execution_count": 70,
   "metadata": {},
   "outputs": [
    {
     "data": {
      "text/plain": [
       "'LEARN SCRATCH PROGRAMING\\nScratch Course is the foundation of coding and is a building block of a coding journey. If you want LEARN CLOUD COMPUTING BASICS-AWS\\nIn this course we are going to cover the basics and the most important services on AWS,\\nAt the end  LEARN MOBILE DEVELOPMENT\\nMobile application development is the process of creating software applications that run on a mobil LEARN CORE JAVA PROGRAMMING ONLINE\\nJava is a very popular high-level, class-based, object-oriented programming language that is design LEARN ROBOTICS\\nYou can open all kinds of doors for advancement in so many careers with a basic understanding of el LEARN JAVASCRIPT\\nJavaScript is the most popular programming language in the world. It powers the entire modern web.  LEARN NODE JS'"
      ]
     },
     "execution_count": 70,
     "metadata": {},
     "output_type": "execute_result"
    }
   ],
   "source": [
    "context=(\"\\n\".join(cleaned_docs))\n",
    "context"
   ]
  },
  {
   "cell_type": "code",
   "execution_count": 90,
   "metadata": {},
   "outputs": [
    {
     "data": {
      "text/plain": [
       "'Game is an exciting and engaging course designed specifically f Scratch Playground: Create a Maze Game!Scratch Playground : Create a Maze Game! is a beginner-level course designed to introduce kids to th Artificial Intelligence Essentials: Summer BootcampJoin us for this engaging 5-day summer bootcamp where we will explore the fascinating world of Artif Time Mastery Camp: AI for Jobs, Business, CareersThe \"AI for Productivity and Time Management\" course: 🚀💡 Create Your Own Roblox Obstacle CourseRoblox enthusiasts who want to learn how to design and build their own custom obstacle courses withi Java Minecraft Creative or Survival Mode1. Title: Minecraft Java Programming for Beginners Overview: This class is designed for complete beg AI Camp for Jobs & Business:Build Your own ChatGPT🌟Welcome to the Chatbot Mastery Course! 🎓 LEARN SCRATCH PROGRAMING\\nScratch Course is the foundation of coding and is a building block of a coding journey. If you want LEARN CLOUD COMPUTING BASICS-AWS\\nIn this course we are going to cover the basics and the most important services on AWS,\\nAt the end  LEARN MOBILE DEVELOPMENT\\nMobile application development is the process of creating software applications that run on a mobil LEARN CORE JAVA PROGRAMMING ONLINE\\nJava is a very popular high-level, class-based, object-oriented programming language that is design LEARN ROBOTICS\\nYou can open all kinds of doors for advancement in so many careers with a basic understanding of el LEARN JAVASCRIPT\\nJavaScript is the most popular programming language in the world. It powers the entire modern web.  LEARN NODE JS'"
      ]
     },
     "execution_count": 90,
     "metadata": {},
     "output_type": "execute_result"
    }
   ],
   "source": [
    "context=\" \".join(cleaned_docs)\n",
    "\n",
    "context"
   ]
  },
  {
   "cell_type": "code",
   "execution_count": 60,
   "metadata": {},
   "outputs": [
    {
     "data": {
      "text/plain": [
       "'LEARN SCRATCH PROGRAMING\\nScratch Course is the foundation of coding and is a building block of a coding journey. If you want 16 LessonsView DetailsLEARN CLOUD COMPUTING BASICS-AWS\\nIn this course we are going to cover the basics and the most important services on AWS,\\nAt the end  20 LessonsView DetailsLEARN MOBILE DEVELOPMENT\\nMobile application development is the process of creating software applications that run on a mobil 24 LessonsView DetailsLEARN CORE JAVA PROGRAMMING ONLINE\\nJava is a very popular high-level, class-based, object-oriented programming language that is design 41 LessonsView DetailsLEARN ROBOTICS\\nYou can open all kinds of doors for advancement in so many careers with a basic understanding of el 25 LessonsView DetailsLEARN JAVASCRIPT\\nJavaScript is the most popular programming language in the world. It powers the entire modern web.  18 LessonsView DetailsLEARN NODE JS'"
      ]
     },
     "execution_count": 60,
     "metadata": {},
     "output_type": "execute_result"
    }
   ],
   "source": [
    "context=\" \".join([doc.page_content for doc in retrieved_docs])\n",
    "context"
   ]
  },
  {
   "cell_type": "code",
   "execution_count": 91,
   "metadata": {},
   "outputs": [],
   "source": [
    "from langchain_ollama.llms import OllamaLLM\n",
    "\n",
    "llm=OllamaLLM(model=\"llama3.2:1b\")\n",
    "response=llm.invoke(f\"\"\"Answer the question according to the context given very briefly:\n",
    "                     Question:{question}.\n",
    "                     Context:{context}\n",
    "\"\"\")"
   ]
  },
  {
   "cell_type": "code",
   "execution_count": 92,
   "metadata": {},
   "outputs": [
    {
     "name": "stdout",
     "output_type": "stream",
     "text": [
      "Yes, I am currently learning Scratch Programming and there are several courses available to learn it, including:\n",
      "\n",
      "- Scratch Course for Beginners (Minecraft)\n",
      "- Artificial Intelligence Essentials: Summer Bootcamp\n",
      "- Minecraft Java Programming for Beginners\n",
      "- ChatGPT Course\n",
      "- Cloud Computing Basics - AWS\n",
      "- Mobile Development\n",
      "- Core Java Programming Online\n",
      "- Robotics\n",
      "- JavaScript\n",
      "- Node JS\n"
     ]
    }
   ],
   "source": [
    "print(response)"
   ]
  }
 ],
 "metadata": {
  "kernelspec": {
   "display_name": "Python 3",
   "language": "python",
   "name": "python3"
  },
  "language_info": {
   "codemirror_mode": {
    "name": "ipython",
    "version": 3
   },
   "file_extension": ".py",
   "mimetype": "text/x-python",
   "name": "python",
   "nbconvert_exporter": "python",
   "pygments_lexer": "ipython3",
   "version": "3.12.6"
  }
 },
 "nbformat": 4,
 "nbformat_minor": 2
}
